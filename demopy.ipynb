{
 "cells": [
  {
   "cell_type": "code",
   "execution_count": 3,
   "id": "c2ad399a",
   "metadata": {},
   "outputs": [
    {
     "name": "stdout",
     "output_type": "stream",
     "text": [
      "Mahesh\n"
     ]
    }
   ],
   "source": [
    "print(\"Mahesh\")"
   ]
  },
  {
   "cell_type": "code",
   "execution_count": 4,
   "id": "05af755d",
   "metadata": {},
   "outputs": [
    {
     "name": "stdout",
     "output_type": "stream",
     "text": [
      "Hey Gorgeous!!\n"
     ]
    }
   ],
   "source": [
    "print(\"Hey Gorgeous!!\")"
   ]
  },
  {
   "cell_type": "code",
   "execution_count": null,
   "id": "35aac8e4",
   "metadata": {},
   "outputs": [],
   "source": []
  }
 ],
 "metadata": {
  "kernelspec": {
   "display_name": "Python 3 (ipykernel)",
   "language": "python",
   "name": "python3"
  },
  "language_info": {
   "codemirror_mode": {
    "name": "ipython",
    "version": 3
   },
   "file_extension": ".py",
   "mimetype": "text/x-python",
   "name": "python",
   "nbconvert_exporter": "python",
   "pygments_lexer": "ipython3",
   "version": "3.12.1"
  }
 },
 "nbformat": 4,
 "nbformat_minor": 5
}
